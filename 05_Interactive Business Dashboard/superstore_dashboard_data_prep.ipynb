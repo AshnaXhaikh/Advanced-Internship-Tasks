{
  "metadata": {
    "kernelspec": {
      "language": "python",
      "display_name": "Python 3",
      "name": "python3"
    },
    "language_info": {
      "name": "python",
      "version": "3.11.13",
      "mimetype": "text/x-python",
      "codemirror_mode": {
        "name": "ipython",
        "version": 3
      },
      "pygments_lexer": "ipython3",
      "nbconvert_exporter": "python",
      "file_extension": ".py"
    },
    "kaggle": {
      "accelerator": "none",
      "dataSources": [
        {
          "sourceId": 1383338,
          "sourceType": "datasetVersion",
          "datasetId": 798706
        }
      ],
      "dockerImageVersionId": 31089,
      "isInternetEnabled": true,
      "language": "python",
      "sourceType": "notebook",
      "isGpuEnabled": false
    },
    "colab": {
      "name": "superstore_dashboard_data_prep",
      "provenance": []
    }
  },
  "nbformat_minor": 0,
  "nbformat": 4,
  "cells": [
    {
      "cell_type": "markdown",
      "source": [
        "# 📊 Sales Dashboard – Data Preparation\n",
        "\n",
        "**Name:** Ashna Imtiaz  \n",
        "\n",
        "**Organization:** DevelopersHub Corporation\n",
        "\n",
        "**Internship:** Data Science & Analytics\n",
        "\n",
        "**Project:** Interactive Business Dashboard\n",
        "\n",
        "**Date:** 28 August 2025  \n",
        "\n",
        "\n",
        "---\n",
        "\n",
        "## Objective\n",
        "This notebook focuses on **preparing sales data for dashboarding** to develop an interactive dashboard for analyzing sales, profit, and segment-wise performance.\n"
      ],
      "metadata": {
        "id": "k_C3w_IyPraO"
      }
    },
    {
      "cell_type": "code",
      "source": [
        "import pandas as pd\n",
        "import numpy as np\n",
        "import matplotlib.pyplot as plt\n",
        "import seaborn as sns\n",
        "\n",
        "from sklearn.model_selection import train_test_split\n",
        "from sklearn.preprocessing import StandardScaler, OneHotEncoder, LabelEncoder\n",
        "from sklearn.linear_model import LinearRegression\n",
        "\n",
        "from sklearn.metrics import mean_squared_error, r2_score"
      ],
      "metadata": {
        "trusted": true,
        "execution": {
          "iopub.status.busy": "2025-08-28T14:39:48.347841Z",
          "iopub.execute_input": "2025-08-28T14:39:48.348704Z",
          "iopub.status.idle": "2025-08-28T14:39:49.651291Z",
          "shell.execute_reply.started": "2025-08-28T14:39:48.348678Z",
          "shell.execute_reply": "2025-08-28T14:39:49.650485Z"
        },
        "id": "TjUl8pgCPn1t"
      },
      "outputs": [],
      "execution_count": null
    },
    {
      "cell_type": "code",
      "source": [
        "df = pd.read_csv(\"global-super-store-dataset/Global_Superstore2.csv\", encoding='ISO-8859-1')\n",
        "df.head(3)"
      ],
      "metadata": {
        "trusted": true,
        "execution": {
          "iopub.status.busy": "2025-08-28T14:39:49.652211Z",
          "iopub.execute_input": "2025-08-28T14:39:49.652856Z",
          "iopub.status.idle": "2025-08-28T14:39:50.229871Z",
          "shell.execute_reply.started": "2025-08-28T14:39:49.652827Z",
          "shell.execute_reply": "2025-08-28T14:39:50.229075Z"
        },
        "id": "ov5afFLmPn1u",
        "outputId": "f9209ff7-8031-4fe0-fea7-336bd32bef2c"
      },
      "outputs": [
        {
          "execution_count": 4,
          "output_type": "execute_result",
          "data": {
            "text/plain": "   Row ID        Order ID  Order Date   Ship Date     Ship Mode Customer ID  \\\n0   32298  CA-2012-124891  31-07-2012  31-07-2012      Same Day    RH-19495   \n1   26341   IN-2013-77878  05-02-2013  07-02-2013  Second Class    JR-16210   \n2   25330   IN-2013-71249  17-10-2013  18-10-2013   First Class    CR-12730   \n\n   Customer Name    Segment           City            State  ...  \\\n0    Rick Hansen   Consumer  New York City         New York  ...   \n1  Justin Ritter  Corporate     Wollongong  New South Wales  ...   \n2   Craig Reiter   Consumer       Brisbane       Queensland  ...   \n\n        Product ID    Category Sub-Category  \\\n0  TEC-AC-10003033  Technology  Accessories   \n1  FUR-CH-10003950   Furniture       Chairs   \n2  TEC-PH-10004664  Technology       Phones   \n\n                                        Product Name     Sales Quantity  \\\n0  Plantronics CS510 - Over-the-Head monaural Wir...  2309.650        7   \n1          Novimex Executive Leather Armchair, Black  3709.395        9   \n2                  Nokia Smart Phone, with Caller ID  5175.171        9   \n\n  Discount    Profit  Shipping Cost  Order Priority  \n0      0.0  762.1845         933.57        Critical  \n1      0.1 -288.7650         923.63        Critical  \n2      0.1  919.9710         915.49          Medium  \n\n[3 rows x 24 columns]",
            "text/html": "<div>\n<style scoped>\n    .dataframe tbody tr th:only-of-type {\n        vertical-align: middle;\n    }\n\n    .dataframe tbody tr th {\n        vertical-align: top;\n    }\n\n    .dataframe thead th {\n        text-align: right;\n    }\n</style>\n<table border=\"1\" class=\"dataframe\">\n  <thead>\n    <tr style=\"text-align: right;\">\n      <th></th>\n      <th>Row ID</th>\n      <th>Order ID</th>\n      <th>Order Date</th>\n      <th>Ship Date</th>\n      <th>Ship Mode</th>\n      <th>Customer ID</th>\n      <th>Customer Name</th>\n      <th>Segment</th>\n      <th>City</th>\n      <th>State</th>\n      <th>...</th>\n      <th>Product ID</th>\n      <th>Category</th>\n      <th>Sub-Category</th>\n      <th>Product Name</th>\n      <th>Sales</th>\n      <th>Quantity</th>\n      <th>Discount</th>\n      <th>Profit</th>\n      <th>Shipping Cost</th>\n      <th>Order Priority</th>\n    </tr>\n  </thead>\n  <tbody>\n    <tr>\n      <th>0</th>\n      <td>32298</td>\n      <td>CA-2012-124891</td>\n      <td>31-07-2012</td>\n      <td>31-07-2012</td>\n      <td>Same Day</td>\n      <td>RH-19495</td>\n      <td>Rick Hansen</td>\n      <td>Consumer</td>\n      <td>New York City</td>\n      <td>New York</td>\n      <td>...</td>\n      <td>TEC-AC-10003033</td>\n      <td>Technology</td>\n      <td>Accessories</td>\n      <td>Plantronics CS510 - Over-the-Head monaural Wir...</td>\n      <td>2309.650</td>\n      <td>7</td>\n      <td>0.0</td>\n      <td>762.1845</td>\n      <td>933.57</td>\n      <td>Critical</td>\n    </tr>\n    <tr>\n      <th>1</th>\n      <td>26341</td>\n      <td>IN-2013-77878</td>\n      <td>05-02-2013</td>\n      <td>07-02-2013</td>\n      <td>Second Class</td>\n      <td>JR-16210</td>\n      <td>Justin Ritter</td>\n      <td>Corporate</td>\n      <td>Wollongong</td>\n      <td>New South Wales</td>\n      <td>...</td>\n      <td>FUR-CH-10003950</td>\n      <td>Furniture</td>\n      <td>Chairs</td>\n      <td>Novimex Executive Leather Armchair, Black</td>\n      <td>3709.395</td>\n      <td>9</td>\n      <td>0.1</td>\n      <td>-288.7650</td>\n      <td>923.63</td>\n      <td>Critical</td>\n    </tr>\n    <tr>\n      <th>2</th>\n      <td>25330</td>\n      <td>IN-2013-71249</td>\n      <td>17-10-2013</td>\n      <td>18-10-2013</td>\n      <td>First Class</td>\n      <td>CR-12730</td>\n      <td>Craig Reiter</td>\n      <td>Consumer</td>\n      <td>Brisbane</td>\n      <td>Queensland</td>\n      <td>...</td>\n      <td>TEC-PH-10004664</td>\n      <td>Technology</td>\n      <td>Phones</td>\n      <td>Nokia Smart Phone, with Caller ID</td>\n      <td>5175.171</td>\n      <td>9</td>\n      <td>0.1</td>\n      <td>919.9710</td>\n      <td>915.49</td>\n      <td>Medium</td>\n    </tr>\n  </tbody>\n</table>\n<p>3 rows × 24 columns</p>\n</div>"
          },
          "metadata": {}
        }
      ],
      "execution_count": null
    },
    {
      "cell_type": "markdown",
      "source": [
        "# Exploratory Data Analysis"
      ],
      "metadata": {
        "id": "DM4ueyUNPn1v"
      }
    },
    {
      "cell_type": "code",
      "source": [
        "df.info()"
      ],
      "metadata": {
        "trusted": true,
        "execution": {
          "iopub.status.busy": "2025-08-28T14:39:50.232112Z",
          "iopub.execute_input": "2025-08-28T14:39:50.232394Z",
          "iopub.status.idle": "2025-08-28T14:39:50.304387Z",
          "shell.execute_reply.started": "2025-08-28T14:39:50.232372Z",
          "shell.execute_reply": "2025-08-28T14:39:50.303367Z"
        },
        "id": "C4FIk8K2Pn1y",
        "outputId": "7b460e64-c60c-40ba-a7e9-ee080910794a"
      },
      "outputs": [
        {
          "name": "stdout",
          "text": "<class 'pandas.core.frame.DataFrame'>\nRangeIndex: 51290 entries, 0 to 51289\nData columns (total 24 columns):\n #   Column          Non-Null Count  Dtype  \n---  ------          --------------  -----  \n 0   Row ID          51290 non-null  int64  \n 1   Order ID        51290 non-null  object \n 2   Order Date      51290 non-null  object \n 3   Ship Date       51290 non-null  object \n 4   Ship Mode       51290 non-null  object \n 5   Customer ID     51290 non-null  object \n 6   Customer Name   51290 non-null  object \n 7   Segment         51290 non-null  object \n 8   City            51290 non-null  object \n 9   State           51290 non-null  object \n 10  Country         51290 non-null  object \n 11  Postal Code     9994 non-null   float64\n 12  Market          51290 non-null  object \n 13  Region          51290 non-null  object \n 14  Product ID      51290 non-null  object \n 15  Category        51290 non-null  object \n 16  Sub-Category    51290 non-null  object \n 17  Product Name    51290 non-null  object \n 18  Sales           51290 non-null  float64\n 19  Quantity        51290 non-null  int64  \n 20  Discount        51290 non-null  float64\n 21  Profit          51290 non-null  float64\n 22  Shipping Cost   51290 non-null  float64\n 23  Order Priority  51290 non-null  object \ndtypes: float64(5), int64(2), object(17)\nmemory usage: 9.4+ MB\n",
          "output_type": "stream"
        }
      ],
      "execution_count": null
    },
    {
      "cell_type": "code",
      "source": [
        "df.describe()"
      ],
      "metadata": {
        "trusted": true,
        "execution": {
          "iopub.status.busy": "2025-08-28T14:39:50.305151Z",
          "iopub.execute_input": "2025-08-28T14:39:50.305373Z",
          "iopub.status.idle": "2025-08-28T14:39:50.353196Z",
          "shell.execute_reply.started": "2025-08-28T14:39:50.305355Z",
          "shell.execute_reply": "2025-08-28T14:39:50.352418Z"
        },
        "id": "vihSNGrdPn1y",
        "outputId": "2bf096a5-d5c0-4c39-ee34-e4764b3e75ac"
      },
      "outputs": [
        {
          "execution_count": 6,
          "output_type": "execute_result",
          "data": {
            "text/plain": "            Row ID   Postal Code         Sales      Quantity      Discount  \\\ncount  51290.00000   9994.000000  51290.000000  51290.000000  51290.000000   \nmean   25645.50000  55190.379428    246.490581      3.476545      0.142908   \nstd    14806.29199  32063.693350    487.565361      2.278766      0.212280   \nmin        1.00000   1040.000000      0.444000      1.000000      0.000000   \n25%    12823.25000  23223.000000     30.758625      2.000000      0.000000   \n50%    25645.50000  56430.500000     85.053000      3.000000      0.000000   \n75%    38467.75000  90008.000000    251.053200      5.000000      0.200000   \nmax    51290.00000  99301.000000  22638.480000     14.000000      0.850000   \n\n             Profit  Shipping Cost  \ncount  51290.000000   51290.000000  \nmean      28.610982      26.375915  \nstd      174.340972      57.296804  \nmin    -6599.978000       0.000000  \n25%        0.000000       2.610000  \n50%        9.240000       7.790000  \n75%       36.810000      24.450000  \nmax     8399.976000     933.570000  ",
            "text/html": "<div>\n<style scoped>\n    .dataframe tbody tr th:only-of-type {\n        vertical-align: middle;\n    }\n\n    .dataframe tbody tr th {\n        vertical-align: top;\n    }\n\n    .dataframe thead th {\n        text-align: right;\n    }\n</style>\n<table border=\"1\" class=\"dataframe\">\n  <thead>\n    <tr style=\"text-align: right;\">\n      <th></th>\n      <th>Row ID</th>\n      <th>Postal Code</th>\n      <th>Sales</th>\n      <th>Quantity</th>\n      <th>Discount</th>\n      <th>Profit</th>\n      <th>Shipping Cost</th>\n    </tr>\n  </thead>\n  <tbody>\n    <tr>\n      <th>count</th>\n      <td>51290.00000</td>\n      <td>9994.000000</td>\n      <td>51290.000000</td>\n      <td>51290.000000</td>\n      <td>51290.000000</td>\n      <td>51290.000000</td>\n      <td>51290.000000</td>\n    </tr>\n    <tr>\n      <th>mean</th>\n      <td>25645.50000</td>\n      <td>55190.379428</td>\n      <td>246.490581</td>\n      <td>3.476545</td>\n      <td>0.142908</td>\n      <td>28.610982</td>\n      <td>26.375915</td>\n    </tr>\n    <tr>\n      <th>std</th>\n      <td>14806.29199</td>\n      <td>32063.693350</td>\n      <td>487.565361</td>\n      <td>2.278766</td>\n      <td>0.212280</td>\n      <td>174.340972</td>\n      <td>57.296804</td>\n    </tr>\n    <tr>\n      <th>min</th>\n      <td>1.00000</td>\n      <td>1040.000000</td>\n      <td>0.444000</td>\n      <td>1.000000</td>\n      <td>0.000000</td>\n      <td>-6599.978000</td>\n      <td>0.000000</td>\n    </tr>\n    <tr>\n      <th>25%</th>\n      <td>12823.25000</td>\n      <td>23223.000000</td>\n      <td>30.758625</td>\n      <td>2.000000</td>\n      <td>0.000000</td>\n      <td>0.000000</td>\n      <td>2.610000</td>\n    </tr>\n    <tr>\n      <th>50%</th>\n      <td>25645.50000</td>\n      <td>56430.500000</td>\n      <td>85.053000</td>\n      <td>3.000000</td>\n      <td>0.000000</td>\n      <td>9.240000</td>\n      <td>7.790000</td>\n    </tr>\n    <tr>\n      <th>75%</th>\n      <td>38467.75000</td>\n      <td>90008.000000</td>\n      <td>251.053200</td>\n      <td>5.000000</td>\n      <td>0.200000</td>\n      <td>36.810000</td>\n      <td>24.450000</td>\n    </tr>\n    <tr>\n      <th>max</th>\n      <td>51290.00000</td>\n      <td>99301.000000</td>\n      <td>22638.480000</td>\n      <td>14.000000</td>\n      <td>0.850000</td>\n      <td>8399.976000</td>\n      <td>933.570000</td>\n    </tr>\n  </tbody>\n</table>\n</div>"
          },
          "metadata": {}
        }
      ],
      "execution_count": null
    },
    {
      "cell_type": "markdown",
      "source": [
        "# Feature Engineering"
      ],
      "metadata": {
        "id": "p-VQ8MX2Pn1z"
      }
    },
    {
      "cell_type": "code",
      "source": [
        "# Select only relevant columns\n",
        "selected_cols = [\n",
        "    'Order Date', 'Customer Name', 'Segment', 'Region',\n",
        "    'Category', 'Sub-Category', 'Sales', 'Profit', 'Quantity', 'Discount'\n",
        "]\n",
        "df = df[selected_cols]"
      ],
      "metadata": {
        "trusted": true,
        "execution": {
          "iopub.status.busy": "2025-08-28T14:39:50.354054Z",
          "iopub.execute_input": "2025-08-28T14:39:50.354356Z",
          "iopub.status.idle": "2025-08-28T14:39:50.361694Z",
          "shell.execute_reply.started": "2025-08-28T14:39:50.354331Z",
          "shell.execute_reply": "2025-08-28T14:39:50.360871Z"
        },
        "id": "wHwTLMaSPn1z"
      },
      "outputs": [],
      "execution_count": null
    },
    {
      "cell_type": "markdown",
      "source": [
        "### Correct feature data types"
      ],
      "metadata": {
        "id": "dvSmWWZ4Pn10"
      }
    },
    {
      "cell_type": "code",
      "source": [
        "# Convert Order Date and Ship Date to datetime\n",
        "df['Order Date'] = pd.to_datetime(df['Order Date'])\\\n",
        "\n",
        "# Ensure numeric columns are correct\n",
        "df['Sales'] = pd.to_numeric(df['Sales'], errors='coerce')\n",
        "df['Profit'] = pd.to_numeric(df['Profit'], errors='coerce')\n"
      ],
      "metadata": {
        "trusted": true,
        "execution": {
          "iopub.status.busy": "2025-08-28T14:40:26.605474Z",
          "iopub.execute_input": "2025-08-28T14:40:26.606049Z",
          "iopub.status.idle": "2025-08-28T14:40:26.62114Z",
          "shell.execute_reply.started": "2025-08-28T14:40:26.606018Z",
          "shell.execute_reply": "2025-08-28T14:40:26.62023Z"
        },
        "id": "WncIIOUgPn10"
      },
      "outputs": [],
      "execution_count": null
    },
    {
      "cell_type": "code",
      "source": [
        "# Example: Profit Margin\n",
        "df['Profit Margin'] = df['Profit'] / df['Sales']\n",
        "\n",
        "# Extract Year & Month for trend analysis\n",
        "df['Year'] = df['Order Date'].dt.year\n",
        "df['Month'] = df['Order Date'].dt.month_name()\n"
      ],
      "metadata": {
        "trusted": true,
        "execution": {
          "iopub.status.busy": "2025-08-28T14:51:19.534235Z",
          "iopub.execute_input": "2025-08-28T14:51:19.534562Z",
          "iopub.status.idle": "2025-08-28T14:51:19.5522Z",
          "shell.execute_reply.started": "2025-08-28T14:51:19.534541Z",
          "shell.execute_reply": "2025-08-28T14:51:19.551342Z"
        },
        "id": "KmRhJLMWPn10"
      },
      "outputs": [],
      "execution_count": null
    },
    {
      "cell_type": "code",
      "source": [
        "# Optional: Aggregate data for KPIs or charts\n",
        "# Example: Sales and Profit by Region\n",
        "agg_region = df.groupby('Region')[['Sales', 'Profit']].sum().reset_index()"
      ],
      "metadata": {
        "trusted": true,
        "execution": {
          "iopub.status.busy": "2025-08-28T14:42:02.435832Z",
          "iopub.execute_input": "2025-08-28T14:42:02.436165Z",
          "iopub.status.idle": "2025-08-28T14:42:02.449776Z",
          "shell.execute_reply.started": "2025-08-28T14:42:02.436144Z",
          "shell.execute_reply": "2025-08-28T14:42:02.448979Z"
        },
        "id": "vDzWs0pDPn11"
      },
      "outputs": [],
      "execution_count": null
    },
    {
      "cell_type": "code",
      "source": [
        "# Example: Top 5 Customers by Sales\n",
        "top_customers = df.groupby('Customer Name')['Sales'].sum().sort_values(ascending=False).head(5).reset_index()\n"
      ],
      "metadata": {
        "trusted": true,
        "execution": {
          "iopub.status.busy": "2025-08-28T14:42:17.752691Z",
          "iopub.execute_input": "2025-08-28T14:42:17.752984Z",
          "iopub.status.idle": "2025-08-28T14:42:17.763888Z",
          "shell.execute_reply.started": "2025-08-28T14:42:17.752963Z",
          "shell.execute_reply": "2025-08-28T14:42:17.762819Z"
        },
        "id": "nzcD-u2gPn11"
      },
      "outputs": [],
      "execution_count": null
    },
    {
      "cell_type": "code",
      "source": [
        "top_customers"
      ],
      "metadata": {
        "trusted": true,
        "execution": {
          "iopub.status.busy": "2025-08-28T14:42:25.914603Z",
          "iopub.execute_input": "2025-08-28T14:42:25.914901Z",
          "iopub.status.idle": "2025-08-28T14:42:25.923321Z",
          "shell.execute_reply.started": "2025-08-28T14:42:25.914879Z",
          "shell.execute_reply": "2025-08-28T14:42:25.922502Z"
        },
        "id": "egETc2uxPn11",
        "outputId": "ac897662-cfa2-44bc-ae0e-791cff5445b9"
      },
      "outputs": [
        {
          "execution_count": 14,
          "output_type": "execute_result",
          "data": {
            "text/plain": "        Customer Name        Sales\n0        Tom Ashbrook  40488.07080\n1        Tamara Chand  37457.33300\n2           Greg Tran  35550.95428\n3  Christopher Conant  35187.07640\n4         Sean Miller  35170.93296",
            "text/html": "<div>\n<style scoped>\n    .dataframe tbody tr th:only-of-type {\n        vertical-align: middle;\n    }\n\n    .dataframe tbody tr th {\n        vertical-align: top;\n    }\n\n    .dataframe thead th {\n        text-align: right;\n    }\n</style>\n<table border=\"1\" class=\"dataframe\">\n  <thead>\n    <tr style=\"text-align: right;\">\n      <th></th>\n      <th>Customer Name</th>\n      <th>Sales</th>\n    </tr>\n  </thead>\n  <tbody>\n    <tr>\n      <th>0</th>\n      <td>Tom Ashbrook</td>\n      <td>40488.07080</td>\n    </tr>\n    <tr>\n      <th>1</th>\n      <td>Tamara Chand</td>\n      <td>37457.33300</td>\n    </tr>\n    <tr>\n      <th>2</th>\n      <td>Greg Tran</td>\n      <td>35550.95428</td>\n    </tr>\n    <tr>\n      <th>3</th>\n      <td>Christopher Conant</td>\n      <td>35187.07640</td>\n    </tr>\n    <tr>\n      <th>4</th>\n      <td>Sean Miller</td>\n      <td>35170.93296</td>\n    </tr>\n  </tbody>\n</table>\n</div>"
          },
          "metadata": {}
        }
      ],
      "execution_count": null
    },
    {
      "cell_type": "code",
      "source": [
        "df"
      ],
      "metadata": {
        "trusted": true,
        "execution": {
          "iopub.status.busy": "2025-08-28T14:51:29.630846Z",
          "iopub.execute_input": "2025-08-28T14:51:29.631622Z",
          "iopub.status.idle": "2025-08-28T14:51:29.64682Z",
          "shell.execute_reply.started": "2025-08-28T14:51:29.631594Z",
          "shell.execute_reply": "2025-08-28T14:51:29.646092Z"
        },
        "id": "OBaVG3oQPn12",
        "outputId": "da7868de-ac0b-4be6-ab5f-b2144ef1497b"
      },
      "outputs": [
        {
          "execution_count": 19,
          "output_type": "execute_result",
          "data": {
            "text/plain": "      Order Date     Customer Name      Segment      Region         Category  \\\n0     2012-07-31       Rick Hansen     Consumer        East       Technology   \n1     2013-02-05     Justin Ritter    Corporate     Oceania        Furniture   \n2     2013-10-17      Craig Reiter     Consumer     Oceania       Technology   \n3     2013-01-28  Katherine Murray  Home Office     Central       Technology   \n4     2013-11-05       Rick Hansen     Consumer      Africa       Technology   \n...          ...               ...          ...         ...              ...   \n51285 2014-06-19   Katrina Edelman    Corporate  North Asia  Office Supplies   \n51286 2014-06-20  Zuschuss Carroll     Consumer     Central  Office Supplies   \n51287 2013-12-02    Laurel Beltran  Home Office        West  Office Supplies   \n51288 2012-02-18        Ross Baird  Home Office       South  Office Supplies   \n51289 2012-05-22     Mick Crebagga     Consumer     Central  Office Supplies   \n\n      Sub-Category     Sales    Profit  Quantity  Discount  Profit Margin  \\\n0      Accessories  2309.650  762.1845         7       0.0       0.330000   \n1           Chairs  3709.395 -288.7650         9       0.1      -0.077847   \n2           Phones  5175.171  919.9710         9       0.1       0.177766   \n3           Phones  2892.510  -96.5400         5       0.1      -0.033376   \n4          Copiers  2832.960  311.5200         8       0.0       0.109963   \n...            ...       ...       ...       ...       ...            ...   \n51285    Fasteners    65.100    4.5000         5       0.0       0.069124   \n51286   Appliances     0.444   -1.1100         1       0.8      -2.500000   \n51287    Envelopes    22.920   11.2308         3       0.0       0.490000   \n51288      Binders    13.440    2.4000         2       0.0       0.178571   \n51289        Paper    61.380    1.8000         3       0.0       0.029326   \n\n       Year     Month  \n0      2012      July  \n1      2013  February  \n2      2013   October  \n3      2013   January  \n4      2013  November  \n...     ...       ...  \n51285  2014      June  \n51286  2014      June  \n51287  2013  December  \n51288  2012  February  \n51289  2012       May  \n\n[51290 rows x 13 columns]",
            "text/html": "<div>\n<style scoped>\n    .dataframe tbody tr th:only-of-type {\n        vertical-align: middle;\n    }\n\n    .dataframe tbody tr th {\n        vertical-align: top;\n    }\n\n    .dataframe thead th {\n        text-align: right;\n    }\n</style>\n<table border=\"1\" class=\"dataframe\">\n  <thead>\n    <tr style=\"text-align: right;\">\n      <th></th>\n      <th>Order Date</th>\n      <th>Customer Name</th>\n      <th>Segment</th>\n      <th>Region</th>\n      <th>Category</th>\n      <th>Sub-Category</th>\n      <th>Sales</th>\n      <th>Profit</th>\n      <th>Quantity</th>\n      <th>Discount</th>\n      <th>Profit Margin</th>\n      <th>Year</th>\n      <th>Month</th>\n    </tr>\n  </thead>\n  <tbody>\n    <tr>\n      <th>0</th>\n      <td>2012-07-31</td>\n      <td>Rick Hansen</td>\n      <td>Consumer</td>\n      <td>East</td>\n      <td>Technology</td>\n      <td>Accessories</td>\n      <td>2309.650</td>\n      <td>762.1845</td>\n      <td>7</td>\n      <td>0.0</td>\n      <td>0.330000</td>\n      <td>2012</td>\n      <td>July</td>\n    </tr>\n    <tr>\n      <th>1</th>\n      <td>2013-02-05</td>\n      <td>Justin Ritter</td>\n      <td>Corporate</td>\n      <td>Oceania</td>\n      <td>Furniture</td>\n      <td>Chairs</td>\n      <td>3709.395</td>\n      <td>-288.7650</td>\n      <td>9</td>\n      <td>0.1</td>\n      <td>-0.077847</td>\n      <td>2013</td>\n      <td>February</td>\n    </tr>\n    <tr>\n      <th>2</th>\n      <td>2013-10-17</td>\n      <td>Craig Reiter</td>\n      <td>Consumer</td>\n      <td>Oceania</td>\n      <td>Technology</td>\n      <td>Phones</td>\n      <td>5175.171</td>\n      <td>919.9710</td>\n      <td>9</td>\n      <td>0.1</td>\n      <td>0.177766</td>\n      <td>2013</td>\n      <td>October</td>\n    </tr>\n    <tr>\n      <th>3</th>\n      <td>2013-01-28</td>\n      <td>Katherine Murray</td>\n      <td>Home Office</td>\n      <td>Central</td>\n      <td>Technology</td>\n      <td>Phones</td>\n      <td>2892.510</td>\n      <td>-96.5400</td>\n      <td>5</td>\n      <td>0.1</td>\n      <td>-0.033376</td>\n      <td>2013</td>\n      <td>January</td>\n    </tr>\n    <tr>\n      <th>4</th>\n      <td>2013-11-05</td>\n      <td>Rick Hansen</td>\n      <td>Consumer</td>\n      <td>Africa</td>\n      <td>Technology</td>\n      <td>Copiers</td>\n      <td>2832.960</td>\n      <td>311.5200</td>\n      <td>8</td>\n      <td>0.0</td>\n      <td>0.109963</td>\n      <td>2013</td>\n      <td>November</td>\n    </tr>\n    <tr>\n      <th>...</th>\n      <td>...</td>\n      <td>...</td>\n      <td>...</td>\n      <td>...</td>\n      <td>...</td>\n      <td>...</td>\n      <td>...</td>\n      <td>...</td>\n      <td>...</td>\n      <td>...</td>\n      <td>...</td>\n      <td>...</td>\n      <td>...</td>\n    </tr>\n    <tr>\n      <th>51285</th>\n      <td>2014-06-19</td>\n      <td>Katrina Edelman</td>\n      <td>Corporate</td>\n      <td>North Asia</td>\n      <td>Office Supplies</td>\n      <td>Fasteners</td>\n      <td>65.100</td>\n      <td>4.5000</td>\n      <td>5</td>\n      <td>0.0</td>\n      <td>0.069124</td>\n      <td>2014</td>\n      <td>June</td>\n    </tr>\n    <tr>\n      <th>51286</th>\n      <td>2014-06-20</td>\n      <td>Zuschuss Carroll</td>\n      <td>Consumer</td>\n      <td>Central</td>\n      <td>Office Supplies</td>\n      <td>Appliances</td>\n      <td>0.444</td>\n      <td>-1.1100</td>\n      <td>1</td>\n      <td>0.8</td>\n      <td>-2.500000</td>\n      <td>2014</td>\n      <td>June</td>\n    </tr>\n    <tr>\n      <th>51287</th>\n      <td>2013-12-02</td>\n      <td>Laurel Beltran</td>\n      <td>Home Office</td>\n      <td>West</td>\n      <td>Office Supplies</td>\n      <td>Envelopes</td>\n      <td>22.920</td>\n      <td>11.2308</td>\n      <td>3</td>\n      <td>0.0</td>\n      <td>0.490000</td>\n      <td>2013</td>\n      <td>December</td>\n    </tr>\n    <tr>\n      <th>51288</th>\n      <td>2012-02-18</td>\n      <td>Ross Baird</td>\n      <td>Home Office</td>\n      <td>South</td>\n      <td>Office Supplies</td>\n      <td>Binders</td>\n      <td>13.440</td>\n      <td>2.4000</td>\n      <td>2</td>\n      <td>0.0</td>\n      <td>0.178571</td>\n      <td>2012</td>\n      <td>February</td>\n    </tr>\n    <tr>\n      <th>51289</th>\n      <td>2012-05-22</td>\n      <td>Mick Crebagga</td>\n      <td>Consumer</td>\n      <td>Central</td>\n      <td>Office Supplies</td>\n      <td>Paper</td>\n      <td>61.380</td>\n      <td>1.8000</td>\n      <td>3</td>\n      <td>0.0</td>\n      <td>0.029326</td>\n      <td>2012</td>\n      <td>May</td>\n    </tr>\n  </tbody>\n</table>\n<p>51290 rows × 13 columns</p>\n</div>"
          },
          "metadata": {}
        }
      ],
      "execution_count": null
    },
    {
      "cell_type": "code",
      "source": [
        "# Save cleaned dataset for dashboard use\n",
        "df.to_csv(\"dashboard_ready.csv\", index=False)\n",
        "print(\"✅ Cleaned dataset saved as dashboard_ready.csv\")"
      ],
      "metadata": {
        "trusted": true,
        "execution": {
          "iopub.status.busy": "2025-08-28T14:54:00.976508Z",
          "iopub.execute_input": "2025-08-28T14:54:00.977082Z",
          "iopub.status.idle": "2025-08-28T14:54:01.41031Z",
          "shell.execute_reply.started": "2025-08-28T14:54:00.977049Z",
          "shell.execute_reply": "2025-08-28T14:54:01.409466Z"
        },
        "id": "Vb3_o5uGPn12",
        "outputId": "d694f3ff-01fc-4852-f0ed-0e75c4bde626"
      },
      "outputs": [
        {
          "name": "stdout",
          "text": "✅ Cleaned dataset saved as dashboard_ready.csv\n",
          "output_type": "stream"
        }
      ],
      "execution_count": null
    }
  ]
}